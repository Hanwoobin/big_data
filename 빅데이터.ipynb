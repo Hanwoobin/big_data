{
  "nbformat": 4,
  "nbformat_minor": 0,
  "metadata": {
    "colab": {
      "provenance": [],
      "history_visible": true
    },
    "kernelspec": {
      "name": "python3",
      "display_name": "Python 3"
    },
    "language_info": {
      "name": "python"
    }
  },
  "cells": [
    {
      "cell_type": "markdown",
      "source": [
        "# 유튜브 급상승 동영상 분석을 통한 미국과 일본에서의 한국 컨텐츠 관심도\n"
      ],
      "metadata": {
        "id": "WnHUmi1no9y5"
      }
    },
    {
      "cell_type": "markdown",
      "source": [
        "**`1-1 왜 유튜브일까요?`**"
      ],
      "metadata": {
        "id": "Fg-cvEDqsv9e"
      }
    },
    {
      "cell_type": "markdown",
      "source": [
        "유튜브는 전 세계적으로 가장 인기 있는 온라인 비디오 플랫폼 중 하나로, 그 사용자 수는 지속적으로 증가하고 있습니다. 2023년 현재, 전 세계적으로 매월 약 **27억 명이 유튜브를 사용**하는 것으로 **추정**됩니다. 이러한 증가 추세는 디지털 미디어의 사용이 증가하고, 비디오 콘텐츠에 대한 수요가 계속해서 높아지고 있음을 나타냅니다. 또한 유튜브는 단순한 비디오 공유 플랫폼을 넘어, **중요한 검색 엔진으로서의 역할**을 하고 있습니다. 사용자들은 유튜브를 통해 다양한 주제에 대한 정보를 검색하고, 교육, 오락, 뉴스 등 다양한 형태의 콘텐츠를 소비합니다. 이는 유튜브가 단순한 엔터테인먼트 채널을 넘어서, **정보 검색 및 학습의 중심지로 자리 잡고 있음을 보여줍니다**.\n",
        "\n",
        "\n",
        "https://www.globalmediainsight.com/blog/youtube-users-statistics/#:~:text=Interesting%20YouTube%20Statistics%202023,largest%20search%20engine%2C%20after%20Google\n"
      ],
      "metadata": {
        "id": "8-hWCdoGtAUp"
      }
    },
    {
      "cell_type": "markdown",
      "source": [
        "유튜브 검색 활동은 **전 세계적인 트렌드와 관심사를 파악하는 데 중요한 지표**가 됩니다. 특히, 유튜브의 급상승 동영상은 현재 가장 인기 있는 주제와 콘텐츠 유형을 반영하며, 이를 통해 사용자들의 관심과 행동 패턴을 분석할 수 있습니다."
      ],
      "metadata": {
        "id": "vaGjGNq6wKun"
      }
    },
    {
      "cell_type": "markdown",
      "source": [
        "**1-2 데이터는 어디에서 구해올까요?**"
      ],
      "metadata": {
        "id": "IDrKzgZxwtGG"
      }
    },
    {
      "cell_type": "markdown",
      "source": [
        "https://www.kaggle.com/datasets/rsrishav/youtube-trending-video-dataset 의 데이터를 가지고 활용하였습니다."
      ],
      "metadata": {
        "id": "14sssqIxw5jm"
      }
    },
    {
      "cell_type": "markdown",
      "source": [
        "**2-1 US 인기 급상승 동영상 데이터 정제하기**"
      ],
      "metadata": {
        "id": "Oerupabjw_dC"
      }
    },
    {
      "cell_type": "code",
      "source": [
        "\n",
        "import os\n",
        "os.kill(os.getpid(), 9)"
      ],
      "metadata": {
        "id": "yVKTWAW9QAdF"
      },
      "execution_count": null,
      "outputs": []
    },
    {
      "cell_type": "code",
      "source": [
        "pip install unidecode"
      ],
      "metadata": {
        "id": "CRQ16ehiFzRN"
      },
      "execution_count": null,
      "outputs": []
    },
    {
      "cell_type": "code",
      "source": [
        "pip install chardet"
      ],
      "metadata": {
        "id": "wX_Qx3oayP0u"
      },
      "execution_count": null,
      "outputs": []
    },
    {
      "cell_type": "code",
      "source": [
        "import pandas as pd\n",
        "\n",
        "# 판다스 버전 확인\n",
        "print(\"Pandas 버전:\", pd.__version__)\n"
      ],
      "metadata": {
        "id": "kTHwofHaZltW"
      },
      "execution_count": null,
      "outputs": []
    },
    {
      "cell_type": "code",
      "source": [
        "import pandas as pd\n",
        "\n",
        "df = pd.read_csv(\"/content/US_youtube_trending_data.csv\",sep=',',\n",
        "                 engine='python',\n",
        "                 header=0,encoding=\"UTF-8\",error_bad_lines=False)\n",
        "# 데이터프레임 확인\n",
        "print(df.head())\n",
        "df.columns"
      ],
      "metadata": {
        "colab": {
          "base_uri": "https://localhost:8080/"
        },
        "id": "HhY6NkQexzog",
        "outputId": "b6cba41f-f6ba-4d68-ee78-e441081580cf"
      },
      "execution_count": 38,
      "outputs": [
        {
          "output_type": "stream",
          "name": "stderr",
          "text": [
            "<ipython-input-38-0ec507336528>:3: FutureWarning:\n",
            "\n",
            "The error_bad_lines argument has been deprecated and will be removed in a future version. Use on_bad_lines in the future.\n",
            "\n",
            "\n",
            "\n",
            "Skipping line 142806: NULL byte detected. This byte cannot be processed in Python's native csv library at the moment, so please pass in engine='c' instead\n",
            "Skipping line 143034: NULL byte detected. This byte cannot be processed in Python's native csv library at the moment, so please pass in engine='c' instead\n",
            "Skipping line 143276: NULL byte detected. This byte cannot be processed in Python's native csv library at the moment, so please pass in engine='c' instead\n",
            "Skipping line 143508: NULL byte detected. This byte cannot be processed in Python's native csv library at the moment, so please pass in engine='c' instead\n",
            "Skipping line 143743: NULL byte detected. This byte cannot be processed in Python's native csv library at the moment, so please pass in engine='c' instead\n",
            "Skipping line 143973: NULL byte detected. This byte cannot be processed in Python's native csv library at the moment, so please pass in engine='c' instead\n"
          ]
        },
        {
          "output_type": "stream",
          "name": "stdout",
          "text": [
            "      video_id                                              title  \\\n",
            "0  3C66w5Z0ixs                 I ASKED HER TO BE MY GIRLFRIEND...   \n",
            "1  M9Pmf9AB4Mo  Apex Legends | Stories from the Outlands – “Th...   \n",
            "2  J78aPJ3VyNs  I left youtube for a month and THIS is what ha...   \n",
            "3  kXLn3HkpjaA  XXL 2020 Freshman Class Revealed - Official An...   \n",
            "4  VIUo6yapDbc  Ultimate DIY Home Movie Theater for The LaBran...   \n",
            "\n",
            "            publishedAt                 channelId   channelTitle  categoryId  \\\n",
            "0  2020-08-11T19:20:14Z  UCvtRTOMP2TqYqu51xNrqAzg       Brawadis          22   \n",
            "1  2020-08-11T17:00:10Z  UC0ZV6M2THA81QT9hrVWJG3A   Apex Legends          20   \n",
            "2  2020-08-11T16:34:06Z  UCYzPXprvl5Y-Sf0g4vX-m6g  jacksepticeye          24   \n",
            "3  2020-08-11T16:38:55Z  UCbg_UMjlHJg_19SZckaKajg            XXL          10   \n",
            "4  2020-08-11T15:10:05Z  UCDVPcEbVLQgLZX0Rt6jo34A       Mr. Kate          26   \n",
            "\n",
            "          trending_date                                               tags  \\\n",
            "0  2020-08-12T00:00:00Z  brawadis|prank|basketball|skits|ghost|funny vi...   \n",
            "1  2020-08-12T00:00:00Z  Apex Legends|Apex Legends characters|new Apex ...   \n",
            "2  2020-08-12T00:00:00Z  jacksepticeye|funny|funny meme|memes|jacksepti...   \n",
            "3  2020-08-12T00:00:00Z  xxl freshman|xxl freshmen|2020 xxl freshman|20...   \n",
            "4  2020-08-12T00:00:00Z  The LaBrant Family|DIY|Interior Design|Makeove...   \n",
            "\n",
            "   view_count   likes  dislikes  comment_count  \\\n",
            "0     1514614  156908      5855          35313   \n",
            "1     2381688  146739      2794          16549   \n",
            "2     2038853  353787      2628          40221   \n",
            "3      496771   23251      1856           7647   \n",
            "4     1123889   45802       964           2196   \n",
            "\n",
            "                                   thumbnail_link  comments_disabled  \\\n",
            "0  https://i.ytimg.com/vi/3C66w5Z0ixs/default.jpg              False   \n",
            "1  https://i.ytimg.com/vi/M9Pmf9AB4Mo/default.jpg              False   \n",
            "2  https://i.ytimg.com/vi/J78aPJ3VyNs/default.jpg              False   \n",
            "3  https://i.ytimg.com/vi/kXLn3HkpjaA/default.jpg              False   \n",
            "4  https://i.ytimg.com/vi/VIUo6yapDbc/default.jpg              False   \n",
            "\n",
            "   ratings_disabled                                        description  \n",
            "0             False  SUBSCRIBE to BRAWADIS ▶ http://bit.ly/Subscrib...  \n",
            "1             False  While running her own modding shop, Ramya Pare...  \n",
            "2             False  I left youtube for a month and this is what ha...  \n",
            "3             False  Subscribe to XXL → http://bit.ly/subscribe-xxl...  \n",
            "4             False  Transforming The LaBrant Family's empty white ...  \n"
          ]
        },
        {
          "output_type": "execute_result",
          "data": {
            "text/plain": [
              "Index(['video_id', 'title', 'publishedAt', 'channelId', 'channelTitle',\n",
              "       'categoryId', 'trending_date', 'tags', 'view_count', 'likes',\n",
              "       'dislikes', 'comment_count', 'thumbnail_link', 'comments_disabled',\n",
              "       'ratings_disabled', 'description'],\n",
              "      dtype='object')"
            ]
          },
          "metadata": {},
          "execution_count": 38
        }
      ]
    },
    {
      "cell_type": "markdown",
      "source": [
        "**US기준이이라서 다 영어권이지만, 한국영상들의 태그나 설명칸에 한국어가 들어가있을 가능성이 높기때문에 정제하는 과정**"
      ],
      "metadata": {
        "id": "0utClW2tPG0S"
      }
    },
    {
      "cell_type": "code",
      "source": [
        "import plotly.express as px\n",
        "\n",
        "# 필요한 열만 선택\n",
        "selected_columns = ['video_id', 'title', 'publishedAt', 'channelTitle', 'categoryId', 'trending_date', 'tags', 'view_count', 'likes', 'dislikes', 'comment_count', 'thumbnail_link', 'comments_disabled', 'ratings_disabled', 'description']\n",
        "\n",
        "df = df[selected_columns]\n",
        "\n",
        "# title, tags, description 중 하나라도 한글이 포함된 경우 필터링\n",
        "korean_ratings_videos = df[(df['ratings_disabled'] == True) &\n",
        "                           ((df['title'].str.contains('[\\u3131-\\u3163\\uac00-\\ud7a3]+', regex=True, na=False)) |\n",
        "                            (df['tags'].str.contains('[\\u3131-\\u3163\\uac00-\\ud7a3]+', regex=True, na=False)) |\n",
        "                            (df['description'].str.contains('[\\u3131-\\u3163\\uac00-\\ud7a3]+', regex=True, na=False)))]\n",
        "\n",
        "# 날짜별로 그룹화하여 각 날짜별 한국 레이팅 영상 수 및 뷰 카운트 계산\n",
        "korean_ratings_by_date = korean_ratings_videos.groupby('trending_date').agg({'video_id': 'count', 'view_count': 'sum'}).reset_index()\n",
        "korean_ratings_by_date.columns = ['trending_date', 'count', 'total_view_count']\n",
        "# 각 날짜별로 한국 레이팅 영상들의 목록 및 뷰 카운트 출력\n",
        "for index, row in korean_ratings_by_date.iterrows():\n",
        "    date = row['trending_date']\n",
        "    count = row['count']\n",
        "    total_view_count = row['total_view_count']\n",
        "\n",
        "    videos_on_date = korean_ratings_videos[korean_ratings_videos['trending_date'] == date]\n",
        "\n",
        "    print(f\"\\n날짜: {date}\")\n",
        "    print(f\"한국 레이팅 영상 수: {count}\")\n",
        "    print(f\"총 뷰 카운트: {total_view_count}\")\n",
        "    print(\"영상 목록:\")\n",
        "    print(videos_on_date[['video_id', 'title', 'view_count']])\n",
        "    print(\"=\" * 50)"
      ],
      "metadata": {
        "id": "Xs_dT86zQZvU",
        "colab": {
          "base_uri": "https://localhost:8080/"
        },
        "outputId": "4a3e2107-79da-4273-f5e0-e61a8694ef2f"
      },
      "execution_count": null,
      "outputs": [
        {
          "output_type": "stream",
          "name": "stdout",
          "text": [
            "\n",
            "날짜: 2020-08-19T00:00:00Z\n",
            "한국 레이팅 영상 수: 1\n",
            "총 뷰 카운트: 958787\n",
            "영상 목록:\n",
            "         video_id                         title  view_count\n",
            "1439  RHPRUe-aZHA  SuperM 슈퍼엠 '100' MV Reaction      958787\n",
            "==================================================\n",
            "\n",
            "날짜: 2020-08-20T00:00:00Z\n",
            "한국 레이팅 영상 수: 1\n",
            "총 뷰 카운트: 1122081\n",
            "영상 목록:\n",
            "         video_id                         title  view_count\n",
            "1672  RHPRUe-aZHA  SuperM 슈퍼엠 '100' MV Reaction     1122081\n",
            "==================================================\n",
            "\n",
            "날짜: 2020-08-21T00:00:00Z\n",
            "한국 레이팅 영상 수: 1\n",
            "총 뷰 카운트: 1213461\n",
            "영상 목록:\n",
            "         video_id                         title  view_count\n",
            "1895  RHPRUe-aZHA  SuperM 슈퍼엠 '100' MV Reaction     1213461\n",
            "==================================================\n",
            "\n",
            "날짜: 2020-08-22T00:00:00Z\n",
            "한국 레이팅 영상 수: 1\n",
            "총 뷰 카운트: 1279156\n",
            "영상 목록:\n",
            "         video_id                         title  view_count\n",
            "2115  RHPRUe-aZHA  SuperM 슈퍼엠 '100' MV Reaction     1279156\n",
            "==================================================\n",
            "\n",
            "날짜: 2020-08-23T00:00:00Z\n",
            "한국 레이팅 영상 수: 1\n",
            "총 뷰 카운트: 1329943\n",
            "영상 목록:\n",
            "         video_id                         title  view_count\n",
            "2331  RHPRUe-aZHA  SuperM 슈퍼엠 '100' MV Reaction     1329943\n",
            "==================================================\n",
            "\n",
            "날짜: 2020-08-24T00:00:00Z\n",
            "한국 레이팅 영상 수: 1\n",
            "총 뷰 카운트: 1363214\n",
            "영상 목록:\n",
            "         video_id                         title  view_count\n",
            "2589  RHPRUe-aZHA  SuperM 슈퍼엠 '100' MV Reaction     1363214\n",
            "==================================================\n",
            "\n",
            "날짜: 2020-09-21T00:00:00Z\n",
            "한국 레이팅 영상 수: 1\n",
            "총 뷰 카운트: 991767\n",
            "영상 목록:\n",
            "         video_id                                              title  \\\n",
            "8122  1C-KJcX6qmY  SuperM 중간고사 | SuperM Midterm Exam : ✏️LUCAS ✏️...   \n",
            "\n",
            "      view_count  \n",
            "8122      991767  \n",
            "==================================================\n",
            "\n",
            "날짜: 2020-09-22T00:00:00Z\n",
            "한국 레이팅 영상 수: 1\n",
            "총 뷰 카운트: 1049673\n",
            "영상 목록:\n",
            "         video_id                                              title  \\\n",
            "8353  1C-KJcX6qmY  SuperM 중간고사 | SuperM Midterm Exam : ✏️LUCAS ✏️...   \n",
            "\n",
            "      view_count  \n",
            "8353     1049673  \n",
            "==================================================\n",
            "\n",
            "날짜: 2020-09-23T00:00:00Z\n",
            "한국 레이팅 영상 수: 2\n",
            "총 뷰 카운트: 7090503\n",
            "영상 목록:\n",
            "         video_id                                              title  \\\n",
            "8481  c_e-IC0VwZM                    THE BOYZ(더보이즈) ‘THE STEALER’ MV   \n",
            "8587  1C-KJcX6qmY  SuperM 중간고사 | SuperM Midterm Exam : ✏️LUCAS ✏️...   \n",
            "\n",
            "      view_count  \n",
            "8481     5981959  \n",
            "8587     1108544  \n",
            "==================================================\n",
            "\n",
            "날짜: 2020-09-24T00:00:00Z\n",
            "한국 레이팅 영상 수: 1\n",
            "총 뷰 카운트: 8909917\n",
            "영상 목록:\n",
            "         video_id                            title  view_count\n",
            "8719  c_e-IC0VwZM  THE BOYZ(더보이즈) ‘THE STEALER’ MV     8909917\n",
            "==================================================\n",
            "\n",
            "날짜: 2020-09-25T00:00:00Z\n",
            "한국 레이팅 영상 수: 1\n",
            "총 뷰 카운트: 10623833\n",
            "영상 목록:\n",
            "         video_id                            title  view_count\n",
            "8968  c_e-IC0VwZM  THE BOYZ(더보이즈) ‘THE STEALER’ MV    10623833\n",
            "==================================================\n",
            "\n",
            "날짜: 2020-09-26T00:00:00Z\n",
            "한국 레이팅 영상 수: 1\n",
            "총 뷰 카운트: 12016894\n",
            "영상 목록:\n",
            "         video_id                            title  view_count\n",
            "9187  c_e-IC0VwZM  THE BOYZ(더보이즈) ‘THE STEALER’ MV    12016894\n",
            "==================================================\n",
            "\n",
            "날짜: 2020-11-25T00:00:00Z\n",
            "한국 레이팅 영상 수: 1\n",
            "총 뷰 카운트: 203276\n",
            "영상 목록:\n",
            "          video_id                               title  view_count\n",
            "20643  kjVRROvfMEw  T1, An Update, and My Future Plans      203276\n",
            "==================================================\n",
            "\n",
            "날짜: 2020-11-26T00:00:00Z\n",
            "한국 레이팅 영상 수: 1\n",
            "총 뷰 카운트: 223226\n",
            "영상 목록:\n",
            "          video_id                               title  view_count\n",
            "20882  kjVRROvfMEw  T1, An Update, and My Future Plans      223226\n",
            "==================================================\n",
            "\n",
            "날짜: 2020-11-27T00:00:00Z\n",
            "한국 레이팅 영상 수: 1\n",
            "총 뷰 카운트: 241778\n",
            "영상 목록:\n",
            "          video_id                               title  view_count\n",
            "21093  kjVRROvfMEw  T1, An Update, and My Future Plans      241778\n",
            "==================================================\n",
            "\n",
            "날짜: 2020-11-28T00:00:00Z\n",
            "한국 레이팅 영상 수: 1\n",
            "총 뷰 카운트: 261530\n",
            "영상 목록:\n",
            "          video_id                               title  view_count\n",
            "21332  kjVRROvfMEw  T1, An Update, and My Future Plans      261530\n",
            "==================================================\n",
            "\n",
            "날짜: 2020-11-29T00:00:00Z\n",
            "한국 레이팅 영상 수: 1\n",
            "총 뷰 카운트: 271719\n",
            "영상 목록:\n",
            "          video_id                               title  view_count\n",
            "21569  kjVRROvfMEw  T1, An Update, and My Future Plans      271719\n",
            "==================================================\n",
            "\n",
            "날짜: 2021-08-10T00:00:00Z\n",
            "한국 레이팅 영상 수: 1\n",
            "총 뷰 카운트: 6463548\n",
            "영상 목록:\n",
            "          video_id                            title  view_count\n",
            "73819  XMs2CIiqRDI  THE BOYZ(더보이즈) ‘THRILL RIDE’ MV     6463548\n",
            "==================================================\n",
            "\n",
            "날짜: 2021-08-11T00:00:00Z\n",
            "한국 레이팅 영상 수: 1\n",
            "총 뷰 카운트: 14369278\n",
            "영상 목록:\n",
            "          video_id                            title  view_count\n",
            "74056  XMs2CIiqRDI  THE BOYZ(더보이즈) ‘THRILL RIDE’ MV    14369278\n",
            "==================================================\n",
            "\n",
            "날짜: 2021-08-12T00:00:00Z\n",
            "한국 레이팅 영상 수: 1\n",
            "총 뷰 카운트: 18245750\n",
            "영상 목록:\n",
            "          video_id                            title  view_count\n",
            "74287  XMs2CIiqRDI  THE BOYZ(더보이즈) ‘THRILL RIDE’ MV    18245750\n",
            "==================================================\n",
            "\n",
            "날짜: 2021-08-13T00:00:00Z\n",
            "한국 레이팅 영상 수: 1\n",
            "총 뷰 카운트: 19338261\n",
            "영상 목록:\n",
            "          video_id                            title  view_count\n",
            "74527  XMs2CIiqRDI  THE BOYZ(더보이즈) ‘THRILL RIDE’ MV    19338261\n",
            "==================================================\n",
            "\n",
            "날짜: 2021-08-14T00:00:00Z\n",
            "한국 레이팅 영상 수: 1\n",
            "총 뷰 카운트: 20265166\n",
            "영상 목록:\n",
            "          video_id                            title  view_count\n",
            "74749  XMs2CIiqRDI  THE BOYZ(더보이즈) ‘THRILL RIDE’ MV    20265166\n",
            "==================================================\n",
            "\n",
            "날짜: 2021-08-15T00:00:00Z\n",
            "한국 레이팅 영상 수: 1\n",
            "총 뷰 카운트: 25733810\n",
            "영상 목록:\n",
            "          video_id                            title  view_count\n",
            "74990  XMs2CIiqRDI  THE BOYZ(더보이즈) ‘THRILL RIDE’ MV    25733810\n",
            "==================================================\n",
            "\n",
            "날짜: 2021-12-14T00:00:00Z\n",
            "한국 레이팅 영상 수: 4\n",
            "총 뷰 카운트: 65530905\n",
            "영상 목록:\n",
            "          video_id                                              title  \\\n",
            "98657  sCHJuQyjZoI  [2021 MAMA] ITZY - LOCO (MAMA ver.) + In the m...   \n",
            "98694  pZQiHUKZ9aQ  [2021 MAMA] HYUNJIN / YEONJUN / YEJI / HEESEUN...   \n",
            "98732  yxfCbV21ck8  ATEEZ(에이티즈) - ‘멋(The Real) (흥 : 興 Ver.)’ Offic...   \n",
            "98736  SCK8yBLqQJc        NCT U 엔시티 유 'Universe (Let's Play Ball)' MV   \n",
            "\n",
            "       view_count  \n",
            "98657     5515038  \n",
            "98694     3151430  \n",
            "98732    18766456  \n",
            "98736    38097981  \n",
            "==================================================\n"
          ]
        }
      ]
    },
    {
      "cell_type": "code",
      "source": [
        "# 날짜별로 그룹화하여 각 날짜별 한국 레이팅 영상 수 및 뷰 카운트 계산\n",
        "korean_ratings_by_date = korean_ratings_videos.groupby(['trending_date', 'categoryId']).agg({'video_id': 'count', 'view_count': 'sum'}).reset_index()\n",
        "\n",
        "# 시각화\n",
        "fig = px.line(korean_ratings_by_date,\n",
        "              x='trending_date',\n",
        "              y='view_count',\n",
        "              color='categoryId',\n",
        "              title='날짜별 한국 레이팅 영상의 카테고리별 뷰 카운트',\n",
        "              labels={'view_count': '조회수', 'categoryId': '카테고리 ID', 'trending_date': '트렌딩 날짜'})\n",
        "\n",
        "fig.show()"
      ],
      "metadata": {
        "id": "dIN0Z9qdRmfh",
        "colab": {
          "base_uri": "https://localhost:8080/",
          "height": 542
        },
        "outputId": "8d87a2ec-ba5d-441e-e610-22d052fb96cb"
      },
      "execution_count": null,
      "outputs": [
        {
          "output_type": "display_data",
          "data": {
            "text/html": [
              "<html>\n",
              "<head><meta charset=\"utf-8\" /></head>\n",
              "<body>\n",
              "    <div>            <script src=\"https://cdnjs.cloudflare.com/ajax/libs/mathjax/2.7.5/MathJax.js?config=TeX-AMS-MML_SVG\"></script><script type=\"text/javascript\">if (window.MathJax && window.MathJax.Hub && window.MathJax.Hub.Config) {window.MathJax.Hub.Config({SVG: {font: \"STIX-Web\"}});}</script>                <script type=\"text/javascript\">window.PlotlyConfig = {MathJaxConfig: 'local'};</script>\n",
              "        <script charset=\"utf-8\" src=\"https://cdn.plot.ly/plotly-2.24.1.min.js\"></script>                <div id=\"b26aa49e-7ef8-447c-9092-d5d0ab5f9143\" class=\"plotly-graph-div\" style=\"height:525px; width:100%;\"></div>            <script type=\"text/javascript\">                                    window.PLOTLYENV=window.PLOTLYENV || {};                                    if (document.getElementById(\"b26aa49e-7ef8-447c-9092-d5d0ab5f9143\")) {                    Plotly.newPlot(                        \"b26aa49e-7ef8-447c-9092-d5d0ab5f9143\",                        [{\"hovertemplate\":\"\\uce74\\ud14c\\uace0\\ub9ac ID=10\\u003cbr\\u003e\\ud2b8\\ub80c\\ub529 \\ub0a0\\uc9dc=%{x}\\u003cbr\\u003e\\uc870\\ud68c\\uc218=%{y}\\u003cextra\\u003e\\u003c\\u002fextra\\u003e\",\"legendgroup\":\"10\",\"line\":{\"color\":\"#636efa\",\"dash\":\"solid\"},\"marker\":{\"symbol\":\"circle\"},\"mode\":\"lines\",\"name\":\"10\",\"orientation\":\"v\",\"showlegend\":true,\"x\":[\"2020-08-19T00:00:00Z\",\"2020-08-20T00:00:00Z\",\"2020-08-21T00:00:00Z\",\"2020-08-22T00:00:00Z\",\"2020-08-23T00:00:00Z\",\"2020-08-24T00:00:00Z\",\"2020-09-21T00:00:00Z\",\"2020-09-22T00:00:00Z\",\"2020-09-23T00:00:00Z\",\"2020-09-24T00:00:00Z\",\"2020-09-25T00:00:00Z\",\"2020-09-26T00:00:00Z\",\"2021-08-10T00:00:00Z\",\"2021-08-11T00:00:00Z\",\"2021-08-12T00:00:00Z\",\"2021-08-13T00:00:00Z\",\"2021-08-14T00:00:00Z\",\"2021-08-15T00:00:00Z\",\"2021-12-14T00:00:00Z\"],\"xaxis\":\"x\",\"y\":[958787,1122081,1213461,1279156,1329943,1363214,991767,1049673,7090503,8909917,10623833,12016894,6463548,14369278,18245750,19338261,20265166,25733810,56864437],\"yaxis\":\"y\",\"type\":\"scatter\"},{\"hovertemplate\":\"\\uce74\\ud14c\\uace0\\ub9ac ID=20\\u003cbr\\u003e\\ud2b8\\ub80c\\ub529 \\ub0a0\\uc9dc=%{x}\\u003cbr\\u003e\\uc870\\ud68c\\uc218=%{y}\\u003cextra\\u003e\\u003c\\u002fextra\\u003e\",\"legendgroup\":\"20\",\"line\":{\"color\":\"#EF553B\",\"dash\":\"solid\"},\"marker\":{\"symbol\":\"circle\"},\"mode\":\"lines\",\"name\":\"20\",\"orientation\":\"v\",\"showlegend\":true,\"x\":[\"2020-11-25T00:00:00Z\",\"2020-11-26T00:00:00Z\",\"2020-11-27T00:00:00Z\",\"2020-11-28T00:00:00Z\",\"2020-11-29T00:00:00Z\"],\"xaxis\":\"x\",\"y\":[203276,223226,241778,261530,271719],\"yaxis\":\"y\",\"type\":\"scatter\"},{\"hovertemplate\":\"\\uce74\\ud14c\\uace0\\ub9ac ID=24\\u003cbr\\u003e\\ud2b8\\ub80c\\ub529 \\ub0a0\\uc9dc=%{x}\\u003cbr\\u003e\\uc870\\ud68c\\uc218=%{y}\\u003cextra\\u003e\\u003c\\u002fextra\\u003e\",\"legendgroup\":\"24\",\"line\":{\"color\":\"#00cc96\",\"dash\":\"solid\"},\"marker\":{\"symbol\":\"circle\"},\"mode\":\"lines\",\"name\":\"24\",\"orientation\":\"v\",\"showlegend\":true,\"x\":[\"2021-12-14T00:00:00Z\"],\"xaxis\":\"x\",\"y\":[8666468],\"yaxis\":\"y\",\"type\":\"scatter\"}],                        {\"template\":{\"data\":{\"histogram2dcontour\":[{\"type\":\"histogram2dcontour\",\"colorbar\":{\"outlinewidth\":0,\"ticks\":\"\"},\"colorscale\":[[0.0,\"#0d0887\"],[0.1111111111111111,\"#46039f\"],[0.2222222222222222,\"#7201a8\"],[0.3333333333333333,\"#9c179e\"],[0.4444444444444444,\"#bd3786\"],[0.5555555555555556,\"#d8576b\"],[0.6666666666666666,\"#ed7953\"],[0.7777777777777778,\"#fb9f3a\"],[0.8888888888888888,\"#fdca26\"],[1.0,\"#f0f921\"]]}],\"choropleth\":[{\"type\":\"choropleth\",\"colorbar\":{\"outlinewidth\":0,\"ticks\":\"\"}}],\"histogram2d\":[{\"type\":\"histogram2d\",\"colorbar\":{\"outlinewidth\":0,\"ticks\":\"\"},\"colorscale\":[[0.0,\"#0d0887\"],[0.1111111111111111,\"#46039f\"],[0.2222222222222222,\"#7201a8\"],[0.3333333333333333,\"#9c179e\"],[0.4444444444444444,\"#bd3786\"],[0.5555555555555556,\"#d8576b\"],[0.6666666666666666,\"#ed7953\"],[0.7777777777777778,\"#fb9f3a\"],[0.8888888888888888,\"#fdca26\"],[1.0,\"#f0f921\"]]}],\"heatmap\":[{\"type\":\"heatmap\",\"colorbar\":{\"outlinewidth\":0,\"ticks\":\"\"},\"colorscale\":[[0.0,\"#0d0887\"],[0.1111111111111111,\"#46039f\"],[0.2222222222222222,\"#7201a8\"],[0.3333333333333333,\"#9c179e\"],[0.4444444444444444,\"#bd3786\"],[0.5555555555555556,\"#d8576b\"],[0.6666666666666666,\"#ed7953\"],[0.7777777777777778,\"#fb9f3a\"],[0.8888888888888888,\"#fdca26\"],[1.0,\"#f0f921\"]]}],\"heatmapgl\":[{\"type\":\"heatmapgl\",\"colorbar\":{\"outlinewidth\":0,\"ticks\":\"\"},\"colorscale\":[[0.0,\"#0d0887\"],[0.1111111111111111,\"#46039f\"],[0.2222222222222222,\"#7201a8\"],[0.3333333333333333,\"#9c179e\"],[0.4444444444444444,\"#bd3786\"],[0.5555555555555556,\"#d8576b\"],[0.6666666666666666,\"#ed7953\"],[0.7777777777777778,\"#fb9f3a\"],[0.8888888888888888,\"#fdca26\"],[1.0,\"#f0f921\"]]}],\"contourcarpet\":[{\"type\":\"contourcarpet\",\"colorbar\":{\"outlinewidth\":0,\"ticks\":\"\"}}],\"contour\":[{\"type\":\"contour\",\"colorbar\":{\"outlinewidth\":0,\"ticks\":\"\"},\"colorscale\":[[0.0,\"#0d0887\"],[0.1111111111111111,\"#46039f\"],[0.2222222222222222,\"#7201a8\"],[0.3333333333333333,\"#9c179e\"],[0.4444444444444444,\"#bd3786\"],[0.5555555555555556,\"#d8576b\"],[0.6666666666666666,\"#ed7953\"],[0.7777777777777778,\"#fb9f3a\"],[0.8888888888888888,\"#fdca26\"],[1.0,\"#f0f921\"]]}],\"surface\":[{\"type\":\"surface\",\"colorbar\":{\"outlinewidth\":0,\"ticks\":\"\"},\"colorscale\":[[0.0,\"#0d0887\"],[0.1111111111111111,\"#46039f\"],[0.2222222222222222,\"#7201a8\"],[0.3333333333333333,\"#9c179e\"],[0.4444444444444444,\"#bd3786\"],[0.5555555555555556,\"#d8576b\"],[0.6666666666666666,\"#ed7953\"],[0.7777777777777778,\"#fb9f3a\"],[0.8888888888888888,\"#fdca26\"],[1.0,\"#f0f921\"]]}],\"mesh3d\":[{\"type\":\"mesh3d\",\"colorbar\":{\"outlinewidth\":0,\"ticks\":\"\"}}],\"scatter\":[{\"fillpattern\":{\"fillmode\":\"overlay\",\"size\":10,\"solidity\":0.2},\"type\":\"scatter\"}],\"parcoords\":[{\"type\":\"parcoords\",\"line\":{\"colorbar\":{\"outlinewidth\":0,\"ticks\":\"\"}}}],\"scatterpolargl\":[{\"type\":\"scatterpolargl\",\"marker\":{\"colorbar\":{\"outlinewidth\":0,\"ticks\":\"\"}}}],\"bar\":[{\"error_x\":{\"color\":\"#2a3f5f\"},\"error_y\":{\"color\":\"#2a3f5f\"},\"marker\":{\"line\":{\"color\":\"#E5ECF6\",\"width\":0.5},\"pattern\":{\"fillmode\":\"overlay\",\"size\":10,\"solidity\":0.2}},\"type\":\"bar\"}],\"scattergeo\":[{\"type\":\"scattergeo\",\"marker\":{\"colorbar\":{\"outlinewidth\":0,\"ticks\":\"\"}}}],\"scatterpolar\":[{\"type\":\"scatterpolar\",\"marker\":{\"colorbar\":{\"outlinewidth\":0,\"ticks\":\"\"}}}],\"histogram\":[{\"marker\":{\"pattern\":{\"fillmode\":\"overlay\",\"size\":10,\"solidity\":0.2}},\"type\":\"histogram\"}],\"scattergl\":[{\"type\":\"scattergl\",\"marker\":{\"colorbar\":{\"outlinewidth\":0,\"ticks\":\"\"}}}],\"scatter3d\":[{\"type\":\"scatter3d\",\"line\":{\"colorbar\":{\"outlinewidth\":0,\"ticks\":\"\"}},\"marker\":{\"colorbar\":{\"outlinewidth\":0,\"ticks\":\"\"}}}],\"scattermapbox\":[{\"type\":\"scattermapbox\",\"marker\":{\"colorbar\":{\"outlinewidth\":0,\"ticks\":\"\"}}}],\"scatterternary\":[{\"type\":\"scatterternary\",\"marker\":{\"colorbar\":{\"outlinewidth\":0,\"ticks\":\"\"}}}],\"scattercarpet\":[{\"type\":\"scattercarpet\",\"marker\":{\"colorbar\":{\"outlinewidth\":0,\"ticks\":\"\"}}}],\"carpet\":[{\"aaxis\":{\"endlinecolor\":\"#2a3f5f\",\"gridcolor\":\"white\",\"linecolor\":\"white\",\"minorgridcolor\":\"white\",\"startlinecolor\":\"#2a3f5f\"},\"baxis\":{\"endlinecolor\":\"#2a3f5f\",\"gridcolor\":\"white\",\"linecolor\":\"white\",\"minorgridcolor\":\"white\",\"startlinecolor\":\"#2a3f5f\"},\"type\":\"carpet\"}],\"table\":[{\"cells\":{\"fill\":{\"color\":\"#EBF0F8\"},\"line\":{\"color\":\"white\"}},\"header\":{\"fill\":{\"color\":\"#C8D4E3\"},\"line\":{\"color\":\"white\"}},\"type\":\"table\"}],\"barpolar\":[{\"marker\":{\"line\":{\"color\":\"#E5ECF6\",\"width\":0.5},\"pattern\":{\"fillmode\":\"overlay\",\"size\":10,\"solidity\":0.2}},\"type\":\"barpolar\"}],\"pie\":[{\"automargin\":true,\"type\":\"pie\"}]},\"layout\":{\"autotypenumbers\":\"strict\",\"colorway\":[\"#636efa\",\"#EF553B\",\"#00cc96\",\"#ab63fa\",\"#FFA15A\",\"#19d3f3\",\"#FF6692\",\"#B6E880\",\"#FF97FF\",\"#FECB52\"],\"font\":{\"color\":\"#2a3f5f\"},\"hovermode\":\"closest\",\"hoverlabel\":{\"align\":\"left\"},\"paper_bgcolor\":\"white\",\"plot_bgcolor\":\"#E5ECF6\",\"polar\":{\"bgcolor\":\"#E5ECF6\",\"angularaxis\":{\"gridcolor\":\"white\",\"linecolor\":\"white\",\"ticks\":\"\"},\"radialaxis\":{\"gridcolor\":\"white\",\"linecolor\":\"white\",\"ticks\":\"\"}},\"ternary\":{\"bgcolor\":\"#E5ECF6\",\"aaxis\":{\"gridcolor\":\"white\",\"linecolor\":\"white\",\"ticks\":\"\"},\"baxis\":{\"gridcolor\":\"white\",\"linecolor\":\"white\",\"ticks\":\"\"},\"caxis\":{\"gridcolor\":\"white\",\"linecolor\":\"white\",\"ticks\":\"\"}},\"coloraxis\":{\"colorbar\":{\"outlinewidth\":0,\"ticks\":\"\"}},\"colorscale\":{\"sequential\":[[0.0,\"#0d0887\"],[0.1111111111111111,\"#46039f\"],[0.2222222222222222,\"#7201a8\"],[0.3333333333333333,\"#9c179e\"],[0.4444444444444444,\"#bd3786\"],[0.5555555555555556,\"#d8576b\"],[0.6666666666666666,\"#ed7953\"],[0.7777777777777778,\"#fb9f3a\"],[0.8888888888888888,\"#fdca26\"],[1.0,\"#f0f921\"]],\"sequentialminus\":[[0.0,\"#0d0887\"],[0.1111111111111111,\"#46039f\"],[0.2222222222222222,\"#7201a8\"],[0.3333333333333333,\"#9c179e\"],[0.4444444444444444,\"#bd3786\"],[0.5555555555555556,\"#d8576b\"],[0.6666666666666666,\"#ed7953\"],[0.7777777777777778,\"#fb9f3a\"],[0.8888888888888888,\"#fdca26\"],[1.0,\"#f0f921\"]],\"diverging\":[[0,\"#8e0152\"],[0.1,\"#c51b7d\"],[0.2,\"#de77ae\"],[0.3,\"#f1b6da\"],[0.4,\"#fde0ef\"],[0.5,\"#f7f7f7\"],[0.6,\"#e6f5d0\"],[0.7,\"#b8e186\"],[0.8,\"#7fbc41\"],[0.9,\"#4d9221\"],[1,\"#276419\"]]},\"xaxis\":{\"gridcolor\":\"white\",\"linecolor\":\"white\",\"ticks\":\"\",\"title\":{\"standoff\":15},\"zerolinecolor\":\"white\",\"automargin\":true,\"zerolinewidth\":2},\"yaxis\":{\"gridcolor\":\"white\",\"linecolor\":\"white\",\"ticks\":\"\",\"title\":{\"standoff\":15},\"zerolinecolor\":\"white\",\"automargin\":true,\"zerolinewidth\":2},\"scene\":{\"xaxis\":{\"backgroundcolor\":\"#E5ECF6\",\"gridcolor\":\"white\",\"linecolor\":\"white\",\"showbackground\":true,\"ticks\":\"\",\"zerolinecolor\":\"white\",\"gridwidth\":2},\"yaxis\":{\"backgroundcolor\":\"#E5ECF6\",\"gridcolor\":\"white\",\"linecolor\":\"white\",\"showbackground\":true,\"ticks\":\"\",\"zerolinecolor\":\"white\",\"gridwidth\":2},\"zaxis\":{\"backgroundcolor\":\"#E5ECF6\",\"gridcolor\":\"white\",\"linecolor\":\"white\",\"showbackground\":true,\"ticks\":\"\",\"zerolinecolor\":\"white\",\"gridwidth\":2}},\"shapedefaults\":{\"line\":{\"color\":\"#2a3f5f\"}},\"annotationdefaults\":{\"arrowcolor\":\"#2a3f5f\",\"arrowhead\":0,\"arrowwidth\":1},\"geo\":{\"bgcolor\":\"white\",\"landcolor\":\"#E5ECF6\",\"subunitcolor\":\"white\",\"showland\":true,\"showlakes\":true,\"lakecolor\":\"white\"},\"title\":{\"x\":0.05},\"mapbox\":{\"style\":\"light\"}}},\"xaxis\":{\"anchor\":\"y\",\"domain\":[0.0,1.0],\"title\":{\"text\":\"\\ud2b8\\ub80c\\ub529 \\ub0a0\\uc9dc\"}},\"yaxis\":{\"anchor\":\"x\",\"domain\":[0.0,1.0],\"title\":{\"text\":\"\\uc870\\ud68c\\uc218\"}},\"legend\":{\"title\":{\"text\":\"\\uce74\\ud14c\\uace0\\ub9ac ID\"},\"tracegroupgap\":0},\"title\":{\"text\":\"\\ub0a0\\uc9dc\\ubcc4 \\ud55c\\uad6d \\ub808\\uc774\\ud305 \\uc601\\uc0c1\\uc758 \\uce74\\ud14c\\uace0\\ub9ac\\ubcc4 \\ubdf0 \\uce74\\uc6b4\\ud2b8\"}},                        {\"responsive\": true}                    ).then(function(){\n",
              "                            \n",
              "var gd = document.getElementById('b26aa49e-7ef8-447c-9092-d5d0ab5f9143');\n",
              "var x = new MutationObserver(function (mutations, observer) {{\n",
              "        var display = window.getComputedStyle(gd).display;\n",
              "        if (!display || display === 'none') {{\n",
              "            console.log([gd, 'removed!']);\n",
              "            Plotly.purge(gd);\n",
              "            observer.disconnect();\n",
              "        }}\n",
              "}});\n",
              "\n",
              "// Listen for the removal of the full notebook cells\n",
              "var notebookContainer = gd.closest('#notebook-container');\n",
              "if (notebookContainer) {{\n",
              "    x.observe(notebookContainer, {childList: true});\n",
              "}}\n",
              "\n",
              "// Listen for the clearing of the current output cell\n",
              "var outputEl = gd.closest('.output');\n",
              "if (outputEl) {{\n",
              "    x.observe(outputEl, {childList: true});\n",
              "}}\n",
              "\n",
              "                        })                };                            </script>        </div>\n",
              "</body>\n",
              "</html>"
            ]
          },
          "metadata": {}
        }
      ]
    },
    {
      "cell_type": "markdown",
      "source": [
        "**캐나다 인기 급상승 동영상 데이터 정제하기**"
      ],
      "metadata": {
        "id": "BLBdGHXcI0j7"
      }
    },
    {
      "cell_type": "code",
      "source": [
        "import pandas as pd\n",
        "\n",
        "df = pd.read_csv(\"/content/CA_youtube_trending_data.csv\",sep=',',\n",
        "                 engine='python',\n",
        "                 header=0,encoding=\"UTF-8\",error_bad_lines=False)\n",
        "# 데이터프레임 확인\n",
        "print(df.head())\n",
        "df.columns"
      ],
      "metadata": {
        "colab": {
          "base_uri": "https://localhost:8080/"
        },
        "id": "bsS8ibAKIxwx",
        "outputId": "74dff741-d107-4e33-ea41-a444c1df5ee9"
      },
      "execution_count": null,
      "outputs": [
        {
          "output_type": "stream",
          "name": "stderr",
          "text": [
            "<ipython-input-35-a0b76bc8b720>:3: FutureWarning:\n",
            "\n",
            "The error_bad_lines argument has been deprecated and will be removed in a future version. Use on_bad_lines in the future.\n",
            "\n",
            "\n",
            "\n"
          ]
        },
        {
          "output_type": "stream",
          "name": "stdout",
          "text": [
            "      video_id                                              title  \\\n",
            "0  KX06ksuS6Xo  Diljit Dosanjh: CLASH (Official) Music Video |...   \n",
            "1  J78aPJ3VyNs  I left youtube for a month and THIS is what ha...   \n",
            "2  M9Pmf9AB4Mo  Apex Legends | Stories from the Outlands – “Th...   \n",
            "3  3C66w5Z0ixs                 I ASKED HER TO BE MY GIRLFRIEND...   \n",
            "4  VIUo6yapDbc  Ultimate DIY Home Movie Theater for The LaBran...   \n",
            "\n",
            "            publishedAt                 channelId    channelTitle  categoryId  \\\n",
            "0  2020-08-11T07:30:02Z  UCZRdNleCgW-BGUJf-bbjzQg  Diljit Dosanjh          10   \n",
            "1  2020-08-11T16:34:06Z  UCYzPXprvl5Y-Sf0g4vX-m6g   jacksepticeye          24   \n",
            "2  2020-08-11T17:00:10Z  UC0ZV6M2THA81QT9hrVWJG3A    Apex Legends          20   \n",
            "3  2020-08-11T19:20:14Z  UCvtRTOMP2TqYqu51xNrqAzg        Brawadis          22   \n",
            "4  2020-08-11T15:10:05Z  UCDVPcEbVLQgLZX0Rt6jo34A        Mr. Kate          26   \n",
            "\n",
            "          trending_date                                               tags  \\\n",
            "0  2020-08-12T00:00:00Z  clash diljit dosanjh|diljit dosanjh|diljit dos...   \n",
            "1  2020-08-12T00:00:00Z  jacksepticeye|funny|funny meme|memes|jacksepti...   \n",
            "2  2020-08-12T00:00:00Z  Apex Legends|Apex Legends characters|new Apex ...   \n",
            "3  2020-08-12T00:00:00Z  brawadis|prank|basketball|skits|ghost|funny vi...   \n",
            "4  2020-08-12T00:00:00Z  The LaBrant Family|DIY|Interior Design|Makeove...   \n",
            "\n",
            "   view_count   likes  dislikes  comment_count  \\\n",
            "0     9140911  296541      6180          30059   \n",
            "1     2038853  353797      2628          40222   \n",
            "2     2381688  146740      2794          16549   \n",
            "3     1514614  156914      5857          35331   \n",
            "4     1123889   45803       964           2198   \n",
            "\n",
            "                                   thumbnail_link  comments_disabled  \\\n",
            "0  https://i.ytimg.com/vi/KX06ksuS6Xo/default.jpg              False   \n",
            "1  https://i.ytimg.com/vi/J78aPJ3VyNs/default.jpg              False   \n",
            "2  https://i.ytimg.com/vi/M9Pmf9AB4Mo/default.jpg              False   \n",
            "3  https://i.ytimg.com/vi/3C66w5Z0ixs/default.jpg              False   \n",
            "4  https://i.ytimg.com/vi/VIUo6yapDbc/default.jpg              False   \n",
            "\n",
            "   ratings_disabled                                        description  \n",
            "0             False  CLASH official music video performed by DILJIT...  \n",
            "1             False  I left youtube for a month and this is what ha...  \n",
            "2             False  While running her own modding shop, Ramya Pare...  \n",
            "3             False  SUBSCRIBE to BRAWADIS ▶ http://bit.ly/Subscrib...  \n",
            "4             False  Transforming The LaBrant Family's empty white ...  \n"
          ]
        },
        {
          "output_type": "stream",
          "name": "stderr",
          "text": [
            "Skipping line 9319: unexpected end of data\n"
          ]
        },
        {
          "output_type": "execute_result",
          "data": {
            "text/plain": [
              "Index(['video_id', 'title', 'publishedAt', 'channelId', 'channelTitle',\n",
              "       'categoryId', 'trending_date', 'tags', 'view_count', 'likes',\n",
              "       'dislikes', 'comment_count', 'thumbnail_link', 'comments_disabled',\n",
              "       'ratings_disabled', 'description'],\n",
              "      dtype='object')"
            ]
          },
          "metadata": {},
          "execution_count": 35
        }
      ]
    },
    {
      "cell_type": "code",
      "source": [
        "import plotly.express as px\n",
        "\n",
        "# 필요한 열만 선택\n",
        "selected_columns = ['video_id', 'title', 'publishedAt', 'channelTitle', 'categoryId', 'trending_date', 'tags', 'view_count', 'likes', 'dislikes', 'comment_count', 'thumbnail_link', 'comments_disabled', 'ratings_disabled', 'description']\n",
        "\n",
        "df = df[selected_columns]\n",
        "\n",
        "# title, tags, description 중 하나라도 한글이 포함된 경우 필터링\n",
        "korean_ratings_videos = df[(df['ratings_disabled'] == True) &\n",
        "                           ((df['title'].str.contains('[\\u3131-\\u3163\\uac00-\\ud7a3]+', regex=True, na=False)) |\n",
        "                            (df['tags'].str.contains('[\\u3131-\\u3163\\uac00-\\ud7a3]+', regex=True, na=False)) |\n",
        "                            (df['description'].str.contains('[\\u3131-\\u3163\\uac00-\\ud7a3]+', regex=True, na=False)))]\n",
        "\n",
        "# 날짜별로 그룹화하여 각 날짜별 한국 레이팅 영상 수 및 뷰 카운트 계산\n",
        "korean_ratings_by_date = korean_ratings_videos.groupby('trending_date').agg({'video_id': 'count', 'view_count': 'sum'}).reset_index()\n",
        "korean_ratings_by_date.columns = ['trending_date', 'count', 'total_view_count']\n",
        "# 각 날짜별로 한국 레이팅 영상들의 목록 및 뷰 카운트 출력\n",
        "for index, row in korean_ratings_by_date.iterrows():\n",
        "    date = row['trending_date']\n",
        "    count = row['count']\n",
        "    total_view_count = row['total_view_count']\n",
        "\n",
        "    videos_on_date = korean_ratings_videos[korean_ratings_videos['trending_date'] == date]\n",
        "\n",
        "    print(f\"\\n날짜: {date}\")\n",
        "    print(f\"한국 레이팅 영상 수: {count}\")\n",
        "    print(f\"총 뷰 카운트: {total_view_count}\")\n",
        "    print(\"영상 목록:\")\n",
        "    print(videos_on_date[['video_id', 'title', 'view_count']])\n",
        "    print(\"=\" * 50)"
      ],
      "metadata": {
        "colab": {
          "base_uri": "https://localhost:8080/"
        },
        "id": "zQKVFLn3MQ1K",
        "outputId": "e7ae08a4-5557-48e7-db1c-c89e77aef0a5"
      },
      "execution_count": null,
      "outputs": [
        {
          "output_type": "stream",
          "name": "stdout",
          "text": [
            "\n",
            "날짜: 2020-08-19T00:00:00Z\n",
            "한국 레이팅 영상 수: 1\n",
            "총 뷰 카운트: 958787\n",
            "영상 목록:\n",
            "         video_id                         title  view_count\n",
            "1439  RHPRUe-aZHA  SuperM 슈퍼엠 '100' MV Reaction      958787\n",
            "==================================================\n",
            "\n",
            "날짜: 2020-08-20T00:00:00Z\n",
            "한국 레이팅 영상 수: 1\n",
            "총 뷰 카운트: 1122081\n",
            "영상 목록:\n",
            "         video_id                         title  view_count\n",
            "1686  RHPRUe-aZHA  SuperM 슈퍼엠 '100' MV Reaction     1122081\n",
            "==================================================\n",
            "\n",
            "날짜: 2020-08-21T00:00:00Z\n",
            "한국 레이팅 영상 수: 1\n",
            "총 뷰 카운트: 1213461\n",
            "영상 목록:\n",
            "         video_id                         title  view_count\n",
            "1907  RHPRUe-aZHA  SuperM 슈퍼엠 '100' MV Reaction     1213461\n",
            "==================================================\n",
            "\n",
            "날짜: 2020-08-22T00:00:00Z\n",
            "한국 레이팅 영상 수: 1\n",
            "총 뷰 카운트: 1279156\n",
            "영상 목록:\n",
            "         video_id                         title  view_count\n",
            "2120  RHPRUe-aZHA  SuperM 슈퍼엠 '100' MV Reaction     1279156\n",
            "==================================================\n",
            "\n",
            "날짜: 2020-08-23T00:00:00Z\n",
            "한국 레이팅 영상 수: 1\n",
            "총 뷰 카운트: 1329943\n",
            "영상 목록:\n",
            "         video_id                         title  view_count\n",
            "2345  RHPRUe-aZHA  SuperM 슈퍼엠 '100' MV Reaction     1329943\n",
            "==================================================\n",
            "\n",
            "날짜: 2020-09-05T00:00:00Z\n",
            "한국 레이팅 영상 수: 1\n",
            "총 뷰 카운트: 1497505\n",
            "영상 목록:\n",
            "         video_id                                              title  \\\n",
            "4869  yIFIrEgehSQ  SuperM 슈퍼엠 '호랑이 (Tiger Inside)' @SuperM THE STAGE   \n",
            "\n",
            "      view_count  \n",
            "4869     1497505  \n",
            "==================================================\n",
            "\n",
            "날짜: 2020-09-06T00:00:00Z\n",
            "한국 레이팅 영상 수: 1\n",
            "총 뷰 카운트: 1649141\n",
            "영상 목록:\n",
            "         video_id                                              title  \\\n",
            "5100  yIFIrEgehSQ  SuperM 슈퍼엠 '호랑이 (Tiger Inside)' @SuperM THE STAGE   \n",
            "\n",
            "      view_count  \n",
            "5100     1649141  \n",
            "==================================================\n",
            "\n",
            "날짜: 2020-09-07T00:00:00Z\n",
            "한국 레이팅 영상 수: 1\n",
            "총 뷰 카운트: 1742874\n",
            "영상 목록:\n",
            "         video_id                                              title  \\\n",
            "5373  yIFIrEgehSQ  SuperM 슈퍼엠 '호랑이 (Tiger Inside)' @SuperM THE STAGE   \n",
            "\n",
            "      view_count  \n",
            "5373     1742874  \n",
            "==================================================\n",
            "\n",
            "날짜: 2020-09-22T00:00:00Z\n",
            "한국 레이팅 영상 수: 1\n",
            "총 뷰 카운트: 3017104\n",
            "영상 목록:\n",
            "         video_id                            title  view_count\n",
            "8258  c_e-IC0VwZM  THE BOYZ(더보이즈) ‘THE STEALER’ MV     3017104\n",
            "==================================================\n",
            "\n",
            "날짜: 2020-09-23T00:00:00Z\n",
            "한국 레이팅 영상 수: 1\n",
            "총 뷰 카운트: 5981959\n",
            "영상 목록:\n",
            "         video_id                            title  view_count\n",
            "8489  c_e-IC0VwZM  THE BOYZ(더보이즈) ‘THE STEALER’ MV     5981959\n",
            "==================================================\n",
            "\n",
            "날짜: 2020-09-24T00:00:00Z\n",
            "한국 레이팅 영상 수: 1\n",
            "총 뷰 카운트: 8909917\n",
            "영상 목록:\n",
            "         video_id                            title  view_count\n",
            "8736  c_e-IC0VwZM  THE BOYZ(더보이즈) ‘THE STEALER’ MV     8909917\n",
            "==================================================\n",
            "\n",
            "날짜: 2020-09-25T00:00:00Z\n",
            "한국 레이팅 영상 수: 1\n",
            "총 뷰 카운트: 10623833\n",
            "영상 목록:\n",
            "         video_id                            title  view_count\n",
            "8978  c_e-IC0VwZM  THE BOYZ(더보이즈) ‘THE STEALER’ MV    10623833\n",
            "==================================================\n"
          ]
        }
      ]
    },
    {
      "cell_type": "code",
      "source": [
        "# 날짜별로 그룹화하여 각 날짜별 한국 레이팅 영상 수 및 뷰 카운트 계산\n",
        "korean_ratings_by_date = korean_ratings_videos.groupby(['trending_date', 'categoryId']).agg({'video_id': 'count', 'view_count': 'sum'}).reset_index()\n",
        "\n",
        "# 시각화\n",
        "fig = px.line(korean_ratings_by_date,\n",
        "              x='trending_date',\n",
        "              y='view_count',\n",
        "              color='categoryId',\n",
        "              title='날짜별 한국 레이팅 영상의 카테고리별 뷰 카운트',\n",
        "              labels={'view_count': '조회수', 'categoryId': '카테고리 ID', 'trending_date': '트렌딩 날짜'})\n",
        "\n",
        "fig.show()"
      ],
      "metadata": {
        "colab": {
          "base_uri": "https://localhost:8080/",
          "height": 542
        },
        "id": "bgHoRwkJMW1b",
        "outputId": "b17ea4cd-f4d4-4627-8b87-67edc481fb8e"
      },
      "execution_count": null,
      "outputs": [
        {
          "output_type": "display_data",
          "data": {
            "text/html": [
              "<html>\n",
              "<head><meta charset=\"utf-8\" /></head>\n",
              "<body>\n",
              "    <div>            <script src=\"https://cdnjs.cloudflare.com/ajax/libs/mathjax/2.7.5/MathJax.js?config=TeX-AMS-MML_SVG\"></script><script type=\"text/javascript\">if (window.MathJax && window.MathJax.Hub && window.MathJax.Hub.Config) {window.MathJax.Hub.Config({SVG: {font: \"STIX-Web\"}});}</script>                <script type=\"text/javascript\">window.PlotlyConfig = {MathJaxConfig: 'local'};</script>\n",
              "        <script charset=\"utf-8\" src=\"https://cdn.plot.ly/plotly-2.24.1.min.js\"></script>                <div id=\"865da6c3-6c7b-4d89-8c20-22669aaac0a5\" class=\"plotly-graph-div\" style=\"height:525px; width:100%;\"></div>            <script type=\"text/javascript\">                                    window.PLOTLYENV=window.PLOTLYENV || {};                                    if (document.getElementById(\"865da6c3-6c7b-4d89-8c20-22669aaac0a5\")) {                    Plotly.newPlot(                        \"865da6c3-6c7b-4d89-8c20-22669aaac0a5\",                        [{\"hovertemplate\":\"\\uce74\\ud14c\\uace0\\ub9ac ID=10\\u003cbr\\u003e\\ud2b8\\ub80c\\ub529 \\ub0a0\\uc9dc=%{x}\\u003cbr\\u003e\\uc870\\ud68c\\uc218=%{y}\\u003cextra\\u003e\\u003c\\u002fextra\\u003e\",\"legendgroup\":\"10\",\"line\":{\"color\":\"#636efa\",\"dash\":\"solid\"},\"marker\":{\"symbol\":\"circle\"},\"mode\":\"lines\",\"name\":\"10\",\"orientation\":\"v\",\"showlegend\":true,\"x\":[\"2020-08-19T00:00:00Z\",\"2020-08-20T00:00:00Z\",\"2020-08-21T00:00:00Z\",\"2020-08-22T00:00:00Z\",\"2020-08-23T00:00:00Z\",\"2020-09-05T00:00:00Z\",\"2020-09-06T00:00:00Z\",\"2020-09-07T00:00:00Z\",\"2020-09-22T00:00:00Z\",\"2020-09-23T00:00:00Z\",\"2020-09-24T00:00:00Z\",\"2020-09-25T00:00:00Z\"],\"xaxis\":\"x\",\"y\":[958787,1122081,1213461,1279156,1329943,1497505,1649141,1742874,3017104,5981959,8909917,10623833],\"yaxis\":\"y\",\"type\":\"scatter\"}],                        {\"template\":{\"data\":{\"histogram2dcontour\":[{\"type\":\"histogram2dcontour\",\"colorbar\":{\"outlinewidth\":0,\"ticks\":\"\"},\"colorscale\":[[0.0,\"#0d0887\"],[0.1111111111111111,\"#46039f\"],[0.2222222222222222,\"#7201a8\"],[0.3333333333333333,\"#9c179e\"],[0.4444444444444444,\"#bd3786\"],[0.5555555555555556,\"#d8576b\"],[0.6666666666666666,\"#ed7953\"],[0.7777777777777778,\"#fb9f3a\"],[0.8888888888888888,\"#fdca26\"],[1.0,\"#f0f921\"]]}],\"choropleth\":[{\"type\":\"choropleth\",\"colorbar\":{\"outlinewidth\":0,\"ticks\":\"\"}}],\"histogram2d\":[{\"type\":\"histogram2d\",\"colorbar\":{\"outlinewidth\":0,\"ticks\":\"\"},\"colorscale\":[[0.0,\"#0d0887\"],[0.1111111111111111,\"#46039f\"],[0.2222222222222222,\"#7201a8\"],[0.3333333333333333,\"#9c179e\"],[0.4444444444444444,\"#bd3786\"],[0.5555555555555556,\"#d8576b\"],[0.6666666666666666,\"#ed7953\"],[0.7777777777777778,\"#fb9f3a\"],[0.8888888888888888,\"#fdca26\"],[1.0,\"#f0f921\"]]}],\"heatmap\":[{\"type\":\"heatmap\",\"colorbar\":{\"outlinewidth\":0,\"ticks\":\"\"},\"colorscale\":[[0.0,\"#0d0887\"],[0.1111111111111111,\"#46039f\"],[0.2222222222222222,\"#7201a8\"],[0.3333333333333333,\"#9c179e\"],[0.4444444444444444,\"#bd3786\"],[0.5555555555555556,\"#d8576b\"],[0.6666666666666666,\"#ed7953\"],[0.7777777777777778,\"#fb9f3a\"],[0.8888888888888888,\"#fdca26\"],[1.0,\"#f0f921\"]]}],\"heatmapgl\":[{\"type\":\"heatmapgl\",\"colorbar\":{\"outlinewidth\":0,\"ticks\":\"\"},\"colorscale\":[[0.0,\"#0d0887\"],[0.1111111111111111,\"#46039f\"],[0.2222222222222222,\"#7201a8\"],[0.3333333333333333,\"#9c179e\"],[0.4444444444444444,\"#bd3786\"],[0.5555555555555556,\"#d8576b\"],[0.6666666666666666,\"#ed7953\"],[0.7777777777777778,\"#fb9f3a\"],[0.8888888888888888,\"#fdca26\"],[1.0,\"#f0f921\"]]}],\"contourcarpet\":[{\"type\":\"contourcarpet\",\"colorbar\":{\"outlinewidth\":0,\"ticks\":\"\"}}],\"contour\":[{\"type\":\"contour\",\"colorbar\":{\"outlinewidth\":0,\"ticks\":\"\"},\"colorscale\":[[0.0,\"#0d0887\"],[0.1111111111111111,\"#46039f\"],[0.2222222222222222,\"#7201a8\"],[0.3333333333333333,\"#9c179e\"],[0.4444444444444444,\"#bd3786\"],[0.5555555555555556,\"#d8576b\"],[0.6666666666666666,\"#ed7953\"],[0.7777777777777778,\"#fb9f3a\"],[0.8888888888888888,\"#fdca26\"],[1.0,\"#f0f921\"]]}],\"surface\":[{\"type\":\"surface\",\"colorbar\":{\"outlinewidth\":0,\"ticks\":\"\"},\"colorscale\":[[0.0,\"#0d0887\"],[0.1111111111111111,\"#46039f\"],[0.2222222222222222,\"#7201a8\"],[0.3333333333333333,\"#9c179e\"],[0.4444444444444444,\"#bd3786\"],[0.5555555555555556,\"#d8576b\"],[0.6666666666666666,\"#ed7953\"],[0.7777777777777778,\"#fb9f3a\"],[0.8888888888888888,\"#fdca26\"],[1.0,\"#f0f921\"]]}],\"mesh3d\":[{\"type\":\"mesh3d\",\"colorbar\":{\"outlinewidth\":0,\"ticks\":\"\"}}],\"scatter\":[{\"fillpattern\":{\"fillmode\":\"overlay\",\"size\":10,\"solidity\":0.2},\"type\":\"scatter\"}],\"parcoords\":[{\"type\":\"parcoords\",\"line\":{\"colorbar\":{\"outlinewidth\":0,\"ticks\":\"\"}}}],\"scatterpolargl\":[{\"type\":\"scatterpolargl\",\"marker\":{\"colorbar\":{\"outlinewidth\":0,\"ticks\":\"\"}}}],\"bar\":[{\"error_x\":{\"color\":\"#2a3f5f\"},\"error_y\":{\"color\":\"#2a3f5f\"},\"marker\":{\"line\":{\"color\":\"#E5ECF6\",\"width\":0.5},\"pattern\":{\"fillmode\":\"overlay\",\"size\":10,\"solidity\":0.2}},\"type\":\"bar\"}],\"scattergeo\":[{\"type\":\"scattergeo\",\"marker\":{\"colorbar\":{\"outlinewidth\":0,\"ticks\":\"\"}}}],\"scatterpolar\":[{\"type\":\"scatterpolar\",\"marker\":{\"colorbar\":{\"outlinewidth\":0,\"ticks\":\"\"}}}],\"histogram\":[{\"marker\":{\"pattern\":{\"fillmode\":\"overlay\",\"size\":10,\"solidity\":0.2}},\"type\":\"histogram\"}],\"scattergl\":[{\"type\":\"scattergl\",\"marker\":{\"colorbar\":{\"outlinewidth\":0,\"ticks\":\"\"}}}],\"scatter3d\":[{\"type\":\"scatter3d\",\"line\":{\"colorbar\":{\"outlinewidth\":0,\"ticks\":\"\"}},\"marker\":{\"colorbar\":{\"outlinewidth\":0,\"ticks\":\"\"}}}],\"scattermapbox\":[{\"type\":\"scattermapbox\",\"marker\":{\"colorbar\":{\"outlinewidth\":0,\"ticks\":\"\"}}}],\"scatterternary\":[{\"type\":\"scatterternary\",\"marker\":{\"colorbar\":{\"outlinewidth\":0,\"ticks\":\"\"}}}],\"scattercarpet\":[{\"type\":\"scattercarpet\",\"marker\":{\"colorbar\":{\"outlinewidth\":0,\"ticks\":\"\"}}}],\"carpet\":[{\"aaxis\":{\"endlinecolor\":\"#2a3f5f\",\"gridcolor\":\"white\",\"linecolor\":\"white\",\"minorgridcolor\":\"white\",\"startlinecolor\":\"#2a3f5f\"},\"baxis\":{\"endlinecolor\":\"#2a3f5f\",\"gridcolor\":\"white\",\"linecolor\":\"white\",\"minorgridcolor\":\"white\",\"startlinecolor\":\"#2a3f5f\"},\"type\":\"carpet\"}],\"table\":[{\"cells\":{\"fill\":{\"color\":\"#EBF0F8\"},\"line\":{\"color\":\"white\"}},\"header\":{\"fill\":{\"color\":\"#C8D4E3\"},\"line\":{\"color\":\"white\"}},\"type\":\"table\"}],\"barpolar\":[{\"marker\":{\"line\":{\"color\":\"#E5ECF6\",\"width\":0.5},\"pattern\":{\"fillmode\":\"overlay\",\"size\":10,\"solidity\":0.2}},\"type\":\"barpolar\"}],\"pie\":[{\"automargin\":true,\"type\":\"pie\"}]},\"layout\":{\"autotypenumbers\":\"strict\",\"colorway\":[\"#636efa\",\"#EF553B\",\"#00cc96\",\"#ab63fa\",\"#FFA15A\",\"#19d3f3\",\"#FF6692\",\"#B6E880\",\"#FF97FF\",\"#FECB52\"],\"font\":{\"color\":\"#2a3f5f\"},\"hovermode\":\"closest\",\"hoverlabel\":{\"align\":\"left\"},\"paper_bgcolor\":\"white\",\"plot_bgcolor\":\"#E5ECF6\",\"polar\":{\"bgcolor\":\"#E5ECF6\",\"angularaxis\":{\"gridcolor\":\"white\",\"linecolor\":\"white\",\"ticks\":\"\"},\"radialaxis\":{\"gridcolor\":\"white\",\"linecolor\":\"white\",\"ticks\":\"\"}},\"ternary\":{\"bgcolor\":\"#E5ECF6\",\"aaxis\":{\"gridcolor\":\"white\",\"linecolor\":\"white\",\"ticks\":\"\"},\"baxis\":{\"gridcolor\":\"white\",\"linecolor\":\"white\",\"ticks\":\"\"},\"caxis\":{\"gridcolor\":\"white\",\"linecolor\":\"white\",\"ticks\":\"\"}},\"coloraxis\":{\"colorbar\":{\"outlinewidth\":0,\"ticks\":\"\"}},\"colorscale\":{\"sequential\":[[0.0,\"#0d0887\"],[0.1111111111111111,\"#46039f\"],[0.2222222222222222,\"#7201a8\"],[0.3333333333333333,\"#9c179e\"],[0.4444444444444444,\"#bd3786\"],[0.5555555555555556,\"#d8576b\"],[0.6666666666666666,\"#ed7953\"],[0.7777777777777778,\"#fb9f3a\"],[0.8888888888888888,\"#fdca26\"],[1.0,\"#f0f921\"]],\"sequentialminus\":[[0.0,\"#0d0887\"],[0.1111111111111111,\"#46039f\"],[0.2222222222222222,\"#7201a8\"],[0.3333333333333333,\"#9c179e\"],[0.4444444444444444,\"#bd3786\"],[0.5555555555555556,\"#d8576b\"],[0.6666666666666666,\"#ed7953\"],[0.7777777777777778,\"#fb9f3a\"],[0.8888888888888888,\"#fdca26\"],[1.0,\"#f0f921\"]],\"diverging\":[[0,\"#8e0152\"],[0.1,\"#c51b7d\"],[0.2,\"#de77ae\"],[0.3,\"#f1b6da\"],[0.4,\"#fde0ef\"],[0.5,\"#f7f7f7\"],[0.6,\"#e6f5d0\"],[0.7,\"#b8e186\"],[0.8,\"#7fbc41\"],[0.9,\"#4d9221\"],[1,\"#276419\"]]},\"xaxis\":{\"gridcolor\":\"white\",\"linecolor\":\"white\",\"ticks\":\"\",\"title\":{\"standoff\":15},\"zerolinecolor\":\"white\",\"automargin\":true,\"zerolinewidth\":2},\"yaxis\":{\"gridcolor\":\"white\",\"linecolor\":\"white\",\"ticks\":\"\",\"title\":{\"standoff\":15},\"zerolinecolor\":\"white\",\"automargin\":true,\"zerolinewidth\":2},\"scene\":{\"xaxis\":{\"backgroundcolor\":\"#E5ECF6\",\"gridcolor\":\"white\",\"linecolor\":\"white\",\"showbackground\":true,\"ticks\":\"\",\"zerolinecolor\":\"white\",\"gridwidth\":2},\"yaxis\":{\"backgroundcolor\":\"#E5ECF6\",\"gridcolor\":\"white\",\"linecolor\":\"white\",\"showbackground\":true,\"ticks\":\"\",\"zerolinecolor\":\"white\",\"gridwidth\":2},\"zaxis\":{\"backgroundcolor\":\"#E5ECF6\",\"gridcolor\":\"white\",\"linecolor\":\"white\",\"showbackground\":true,\"ticks\":\"\",\"zerolinecolor\":\"white\",\"gridwidth\":2}},\"shapedefaults\":{\"line\":{\"color\":\"#2a3f5f\"}},\"annotationdefaults\":{\"arrowcolor\":\"#2a3f5f\",\"arrowhead\":0,\"arrowwidth\":1},\"geo\":{\"bgcolor\":\"white\",\"landcolor\":\"#E5ECF6\",\"subunitcolor\":\"white\",\"showland\":true,\"showlakes\":true,\"lakecolor\":\"white\"},\"title\":{\"x\":0.05},\"mapbox\":{\"style\":\"light\"}}},\"xaxis\":{\"anchor\":\"y\",\"domain\":[0.0,1.0],\"title\":{\"text\":\"\\ud2b8\\ub80c\\ub529 \\ub0a0\\uc9dc\"}},\"yaxis\":{\"anchor\":\"x\",\"domain\":[0.0,1.0],\"title\":{\"text\":\"\\uc870\\ud68c\\uc218\"}},\"legend\":{\"title\":{\"text\":\"\\uce74\\ud14c\\uace0\\ub9ac ID\"},\"tracegroupgap\":0},\"title\":{\"text\":\"\\ub0a0\\uc9dc\\ubcc4 \\ud55c\\uad6d \\ub808\\uc774\\ud305 \\uc601\\uc0c1\\uc758 \\uce74\\ud14c\\uace0\\ub9ac\\ubcc4 \\ubdf0 \\uce74\\uc6b4\\ud2b8\"}},                        {\"responsive\": true}                    ).then(function(){\n",
              "                            \n",
              "var gd = document.getElementById('865da6c3-6c7b-4d89-8c20-22669aaac0a5');\n",
              "var x = new MutationObserver(function (mutations, observer) {{\n",
              "        var display = window.getComputedStyle(gd).display;\n",
              "        if (!display || display === 'none') {{\n",
              "            console.log([gd, 'removed!']);\n",
              "            Plotly.purge(gd);\n",
              "            observer.disconnect();\n",
              "        }}\n",
              "}});\n",
              "\n",
              "// Listen for the removal of the full notebook cells\n",
              "var notebookContainer = gd.closest('#notebook-container');\n",
              "if (notebookContainer) {{\n",
              "    x.observe(notebookContainer, {childList: true});\n",
              "}}\n",
              "\n",
              "// Listen for the clearing of the current output cell\n",
              "var outputEl = gd.closest('.output');\n",
              "if (outputEl) {{\n",
              "    x.observe(outputEl, {childList: true});\n",
              "}}\n",
              "\n",
              "                        })                };                            </script>        </div>\n",
              "</body>\n",
              "</html>"
            ]
          },
          "metadata": {}
        }
      ]
    },
    {
      "cell_type": "markdown",
      "source": [
        "코드에서 “<를 인식하지 못하여서 csv를 수정하였으나 csv가 이상하게 저장되거나 , 계속 오류가 발생하였다. 그래서 오류가나는 곳을 스킵을했더니 계속 런타임을 재시작하면 됐다가 안됐다가, 값이 들어갔다가 안들어갔다 하는 버그가 있었다.\n",
        "\n",
        "한국 컨텐츠가 미국과 캐나다에서 인기를 얻고 있는 것은 흥미로운 현상이다. 특히 음악 컨텐츠가 두각을 내고 있다는 것은 K-pop 등 한국 음악의 국제적 성공을 반영하는 것으로 보인다.. 이러한 성공은 한국 음악산업과 아티스트들의 글로벌 영향력이 계속해서 성장하고 있다는 증거일 수 있다.\n",
        "\n",
        "그래프를 통해 이러한 추세를 확인하고 있다면, 한국 컨텐츠 산업의 성장과 국제적 인지도가 높아지고 있다는 것을 나타낼 수 있다. 이는 한국의 엔터테인먼트 기업, 가수, 그리고 음악 프로듀서들이 해외 시장을 탐구하고 성공적인 마케팅 및 홍보를 진행하고 있음을 시사한다.\n",
        "\n",
        "더 많은 데이터와 분석을 통해 이러한 추세를 더 자세히 이해할 수 있으며, 한국 컨텐츠 산업의 글로벌 영향력이 앞으로도 계속해서 확대될 것으로 예상된다. 이는 한국의 문화와 예술이 국제 무대에서 더 많이 빛날 수 있는 기회를 의미한다."
      ],
      "metadata": {
        "id": "H8-5FS_FNDUX"
      }
    },
    {
      "cell_type": "code",
      "source": [],
      "metadata": {
        "id": "Z0rp_413NcHG"
      },
      "execution_count": null,
      "outputs": []
    }
  ]
}